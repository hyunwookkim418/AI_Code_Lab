{
 "cells": [
  {
   "cell_type": "markdown",
   "metadata": {},
   "source": [
    "Stochastic Gradient Descent"
   ]
  },
  {
   "cell_type": "code",
   "execution_count": null,
   "metadata": {},
   "outputs": [
    {
     "name": "stdout",
     "output_type": "stream",
     "text": [
      "Final Weight: 0.4021883926137976\n",
      "MSE History: [np.float64(2.572122934815876), np.float64(0.9947673747295411), np.float64(0.9180664958942389), np.float64(1.5965252765590439), np.float64(0.1295888727492812), np.float64(0.020394861987183256), np.float64(0.029551240921464158), np.float64(1.0586909007044736), np.float64(3.7601393212920735), np.float64(1.148951618203121), np.float64(0.34043608832975475), np.float64(0.8938320281258699), np.float64(1.553409613881204), np.float64(0.9056347011201169), np.float64(2.0910328995599747), np.float64(0.1335017172983927), np.float64(2.3812477127319633), np.float64(2.357418718762653), np.float64(0.003821166047090563), np.float64(0.7273762601888952), np.float64(0.006927504917888406), np.float64(1.5133554495886528), np.float64(0.1309114955469331), np.float64(1.0110218665051003), np.float64(2.7814172580478274)]\n"
     ]
    }
   ],
   "source": [
    "import numpy as np\n",
    "\n",
    "np.random.seed(42)\n",
    "x = np.linspace(0, 1, 10)\n",
    "y_actual = x + np.random.normal(0, 1, 10)\n",
    "\n",
    "def Mini_Batch_Gradient_Descent(x, y_actual, w_init=0.2,  lr=0.01, epochs=5, batch_size=2):\n",
    "    \n",
    "    w = w_init    \n",
    "    mse_history = []\n",
    "    weight_history = [w_init]\n",
    "    n = len(x)\n",
    "\n",
    "    for epoch in range(epochs):\n",
    "        indices = np.arange(n)\n",
    "        np.random.shuffle(indices)\n",
    "        x_shuffled = x[indices]\n",
    "        y_shuffled = y_actual[indices]\n",
    "\n",
    "        for i in range(0, n, batch_size):\n",
    "            x_batch = x_shuffled[i:i+batch_size]\n",
    "            y_batch = y_shuffled[i:i+batch_size]\n",
    "\n",
    "            y_predicted = w*x_batch\n",
    "            \n",
    "            gradient = -2*np.mean(x[i]*(y_batch-y_predicted))\n",
    "            w = w -lr*gradient\n",
    "\n",
    "            weight_history.append(w)\n",
    "            mse = np.mean((y_batch-y_predicted)**2)\n",
    "            mse_history.append(mse)\n",
    "    \n",
    "    return weight_history, mse_history, w\n",
    "\n",
    "weight_history_SG, mse_history_SG, Final_weight = Stochastic_Gradient_Descent(x, y_actual, w_init=0.2,  lr=0.01, epochs=5, batch_size=2) \n",
    "print(f\"Final Weight: {Final_weight}\")\n",
    "print(f\"MSE History: {mse_history_SG}\")"
   ]
  }
 ],
 "metadata": {
  "kernelspec": {
   "display_name": "fusion_env",
   "language": "python",
   "name": "python3"
  },
  "language_info": {
   "codemirror_mode": {
    "name": "ipython",
    "version": 3
   },
   "file_extension": ".py",
   "mimetype": "text/x-python",
   "name": "python",
   "nbconvert_exporter": "python",
   "pygments_lexer": "ipython3",
   "version": "3.12.7"
  }
 },
 "nbformat": 4,
 "nbformat_minor": 2
}
