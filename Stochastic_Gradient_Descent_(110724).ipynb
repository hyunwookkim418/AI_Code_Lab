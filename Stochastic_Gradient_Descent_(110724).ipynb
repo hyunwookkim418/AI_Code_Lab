{
 "cells": [
  {
   "cell_type": "markdown",
   "metadata": {},
   "source": [
    "Stochastic Gradient Descent"
   ]
  },
  {
   "cell_type": "code",
   "execution_count": 1,
   "metadata": {},
   "outputs": [
    {
     "name": "stdout",
     "output_type": "stream",
     "text": [
      "Final Weight: 0.253051906198161\n",
      "MSE History: [np.float64(4.507255771199882), np.float64(0.0028916793055162736), np.float64(0.24672494980166626), np.float64(0.2848701741971628), np.float64(1.0532794878989666)]\n"
     ]
    }
   ],
   "source": [
    "import numpy as np\n",
    "\n",
    "np.random.seed(42)\n",
    "x = np.linspace(0, 1, 5)\n",
    "y_actual = x + np.random.normal(0, 1, 5)\n",
    "weight_history = []\n",
    "mse_history = []\n",
    "n = len(x)\n",
    "\n",
    "def Stochastic_Gradient_Descent(x, y_actual, w_init=0.2,  lr=0.01, epochs=5):\n",
    "    \n",
    "    indices = np.arange(n)\n",
    "    np.random.shuffle(indices)\n",
    "    w = w_init\n",
    "\n",
    "    for i in indices:\n",
    "        y_hat = w*x[i]\n",
    "        gradient = -2*(x[i]*(y_actual[i]-y_hat))\n",
    "        w = w -lr*gradient\n",
    "\n",
    "        weight_history.append(w)\n",
    "        mse = (y_actual[i]-y_hat)**2\n",
    "        mse_history.append(mse)\n",
    "    \n",
    "    return weight_history, mse_history, w\n",
    "\n",
    "weight_history_SG, mse_history_SG, Final_weight = Stochastic_Gradient_Descent(x, y_actual, w_init=0.2,  lr=0.01, epochs=5) \n",
    "print(f\"Final Weight: {Final_weight}\")\n",
    "print(f\"MSE History: {mse_history_SG}\")"
   ]
  },
  {
   "cell_type": "code",
   "execution_count": null,
   "metadata": {},
   "outputs": [],
   "source": []
  }
 ],
 "metadata": {
  "kernelspec": {
   "display_name": "fusion_env",
   "language": "python",
   "name": "python3"
  },
  "language_info": {
   "codemirror_mode": {
    "name": "ipython",
    "version": 3
   },
   "file_extension": ".py",
   "mimetype": "text/x-python",
   "name": "python",
   "nbconvert_exporter": "python",
   "pygments_lexer": "ipython3",
   "version": "3.12.7"
  }
 },
 "nbformat": 4,
 "nbformat_minor": 2
}
