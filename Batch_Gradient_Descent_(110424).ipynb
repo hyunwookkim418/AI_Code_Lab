{
 "cells": [
  {
   "cell_type": "markdown",
   "metadata": {},
   "source": [
    "Batch Gradient Descent"
   ]
  },
  {
   "cell_type": "code",
   "execution_count": null,
   "metadata": {},
   "outputs": [
    {
     "name": "stdout",
     "output_type": "stream",
     "text": [
      "Final Weight, 0.2531447714819781\n",
      "Weight History, [0.2, np.float64(0.21078958884536095), np.float64(0.22149825577438167), np.float64(0.23212660770143476), np.float64(0.24267524698903492), np.float64(0.2531447714819781)]\n"
     ]
    }
   ],
   "source": [
    "import numpy as np\n",
    "\n",
    "np.random.seed(42)\n",
    "x = np.linspace(0, 1, 5)\n",
    "y_actual = x + np.random.normal(0, 1, 5)\n",
    "\n",
    "def batch_gradient_descent(x, y_actual, lr=0.01, w_init = 0.2, epochs=5):\n",
    "    w = w_init\n",
    "    w_history =[w_init]\n",
    "    mse_history=[]\n",
    "\n",
    "    for epoch in range(epochs):\n",
    "        y_hat = w*x\n",
    "        gradient = -2*np.mean(x*(y_actual-y_hat))\n",
    "        w = w - lr*gradient\n",
    "    \n",
    "        w_history.append(w)\n",
    "\n",
    "        mse = np.mean((y_actual - y_hat)**2)\n",
    "        mse_history.append(mse)\n",
    "    return w, mse_history, w_history\n",
    "\n",
    "Final_weight, mse_history_gd, w_history_gd = batch_gradient_descent(x, y_actual)\n",
    "\n",
    "\n",
    "\n",
    "print(f\"Final Weight, {Final_weight}\")\n",
    "print(f\"Weight History, {w_history_gd}\")"
   ]
  },
  {
   "cell_type": "code",
   "execution_count": null,
   "metadata": {},
   "outputs": [],
   "source": []
  }
 ],
 "metadata": {
  "kernelspec": {
   "display_name": "fusion_env",
   "language": "python",
   "name": "python3"
  },
  "language_info": {
   "codemirror_mode": {
    "name": "ipython",
    "version": 3
   },
   "file_extension": ".py",
   "mimetype": "text/x-python",
   "name": "python",
   "nbconvert_exporter": "python",
   "pygments_lexer": "ipython3",
   "version": "3.12.7"
  }
 },
 "nbformat": 4,
 "nbformat_minor": 2
}
